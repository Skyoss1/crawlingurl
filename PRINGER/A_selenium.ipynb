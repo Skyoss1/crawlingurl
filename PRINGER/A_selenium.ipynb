{
 "cells": [
  {
   "cell_type": "code",
   "execution_count": 3,
   "id": "919b80bc-3fb8-4dba-a9c3-b00813a41c83",
   "metadata": {},
   "outputs": [
    {
     "data": {
      "text/plain": [
       "<Response [200]>"
      ]
     },
     "execution_count": 3,
     "metadata": {},
     "output_type": "execute_result"
    }
   ],
   "source": [
    "import requests\n",
    "from bs4 import BeautifulSoup\n",
    "\n",
    "# URL of the webpage to be scraped\n",
    "url = 'https://link.springer.com/search?new-search=true&query=%22quantum++computer%22&sortBy=newestFirst&page=2'\n",
    "\n",
    "# Send a request to the webpage\n",
    "response = requests.get(url)\n",
    "response"
   ]
  },
  {
   "cell_type": "code",
   "execution_count": 18,
   "id": "e9f9c315-9885-4c7d-bc87-d7b83df5fffa",
   "metadata": {},
   "outputs": [],
   "source": [
    "soup = BeautifulSoup(response.content, 'html.parser')\n",
    "# papers = soup.find_all('h3')\n",
    "# soup"
   ]
  },
  {
   "cell_type": "code",
   "execution_count": 22,
   "id": "c315ce0a-1875-4272-9320-81f788c7e1b8",
   "metadata": {},
   "outputs": [
    {
     "data": {
      "text/plain": [
       "[{'link': 'https://link.springer.com//article/10.1007/s11128-024-04405-x',\n",
       "  'typedata': 'view Article',\n",
       "  'title': 'Security enhancement of amplitude-shift keying-type asymmetric quantum communication systems'},\n",
       " {'link': 'https://link.springer.com//article/10.1007/s42484-024-00165-0',\n",
       "  'typedata': 'view Article',\n",
       "  'title': 'Quantum support vector machines for classification and regression on a trapped-ion quantum computer'},\n",
       " {'link': 'https://link.springer.com//article/10.1007/s11467-024-1405-8',\n",
       "  'typedata': 'view Article',\n",
       "  'title': 'Hardware-efficient and fast three-qubit gate in superconducting quantum circuits'},\n",
       " {'link': 'https://link.springer.com//article/10.1038/s43018-024-00770-9',\n",
       "  'typedata': 'view Article',\n",
       "  'title': 'Quantum computing for oncology'},\n",
       " {'link': 'https://link.springer.com//article/10.1038/s41587-024-02251-x',\n",
       "  'typedata': 'view Article',\n",
       "  'title': 'Biopharma foresees a ‘quantum advantage’: they could be right'},\n",
       " {'link': 'https://link.springer.com//article/10.1140/epja/s10050-024-01286-7',\n",
       "  'typedata': 'view Article',\n",
       "  'title': 'Deep quantum circuit simulations of low-energy nuclear states'},\n",
       " {'link': 'https://link.springer.com//article/10.1007/s11128-024-04393-y',\n",
       "  'typedata': 'view Article',\n",
       "  'title': 'An RNN–policy gradient approach for quantum architecture search'},\n",
       " {'link': 'https://link.springer.com//article/10.1007/s10773-024-05669-w',\n",
       "  'typedata': 'view Article',\n",
       "  'title': 'Image Classification Using Hybrid Classical-Quantum Neutral Networks'},\n",
       " {'link': 'https://link.springer.com//article/10.1007/s11128-024-04386-x',\n",
       "  'typedata': 'view Article',\n",
       "  'title': 'Implementing 2-qubit pseudo-telepathy games on noisy intermediate-scale quantum computers'},\n",
       " {'link': 'https://link.springer.com//article/10.1007/s11128-024-04401-1',\n",
       "  'typedata': 'view Article',\n",
       "  'title': 'Quantum horse racing game'},\n",
       " {'link': 'https://link.springer.com//article/10.1007/s10479-024-06025-1',\n",
       "  'typedata': 'view Article',\n",
       "  'title': 'Optimal solving of a binary knapsack problem on a D-Wave quantum machine and its implementation in production systems'},\n",
       " {'link': 'https://link.springer.com//article/10.1038/s41598-024-60605-6',\n",
       "  'typedata': 'view Article',\n",
       "  'title': 'Efficient simulation of potential energy operators on quantum hardware: a study on sodium iodide (NaI)'},\n",
       " {'link': 'https://link.springer.com//article/10.1007/s00158-024-03791-1',\n",
       "  'typedata': 'view Article',\n",
       "  'title': 'Mapping structural topology optimization problems to quantum annealing'},\n",
       " {'link': 'https://link.springer.com//article/10.1007/s11128-024-04384-z',\n",
       "  'typedata': 'view Article',\n",
       "  'title': 'Error estimation in current noisy quantum computers'},\n",
       " {'link': 'https://link.springer.com//article/10.1557/s43579-024-00557-0',\n",
       "  'typedata': 'view Article',\n",
       "  'title': 'Triangular cross-section beam splitters in silicon carbide for quantum information processing'},\n",
       " {'link': 'https://link.springer.com//article/10.1007/s12095-024-00712-3',\n",
       "  'typedata': 'view Article',\n",
       "  'title': 'Integer syndrome decoding in the presence of noise'},\n",
       " {'link': 'https://link.springer.com//article/10.1140/epjqt/s40507-024-00244-y',\n",
       "  'typedata': 'view Article',\n",
       "  'title': 'Spooky action at a distance? A two-phase study into learners’ views of quantum entanglement'},\n",
       " {'link': 'https://link.springer.com//article/10.1007/s11128-024-04392-z',\n",
       "  'typedata': 'view Article',\n",
       "  'title': 'Quantum image edge detection based on Laplacian of Gaussian operator'},\n",
       " {'link': 'https://link.springer.com//article/10.1007/s11128-024-04396-9',\n",
       "  'typedata': 'view Article',\n",
       "  'title': 'Quantum implementation of SHA1 and MD5 and comparison with classical algorithms'},\n",
       " {'link': 'https://link.springer.com//article/10.1007/s11107-024-01017-4',\n",
       "  'typedata': 'view Article',\n",
       "  'title': 'Secret Information Sharing using Multipartite Entanglement in Monty Hall Game'}]"
      ]
     },
     "execution_count": 22,
     "metadata": {},
     "output_type": "execute_result"
    }
   ],
   "source": [
    "soup = BeautifulSoup(response.content, 'html.parser')\n",
    "papers = soup.find_all('h3', class_=\"app-card-open__heading\")\n",
    "dt_data = []\n",
    "for paper in papers:\n",
    "    json_df = {}\n",
    "    json_df[\"link\"] = \"https://link.springer.com/\" + paper.find('a', class_='app-card-open__link')['href']\n",
    "    json_df[\"typedata\"] = paper.find('a', class_='app-card-open__link')['data-track-action']\n",
    "    json_df[\"title\"] = paper.find('span').text\n",
    "    dt_data.append(json_df)\n",
    "dt_data"
   ]
  },
  {
   "cell_type": "code",
   "execution_count": null,
   "id": "8e0ed1f0-5e84-4378-863f-06c10f362271",
   "metadata": {},
   "outputs": [],
   "source": []
  },
  {
   "cell_type": "code",
   "execution_count": null,
   "id": "47baa9bc-4e3e-494a-b6c7-96443a1381d4",
   "metadata": {},
   "outputs": [],
   "source": []
  },
  {
   "cell_type": "code",
   "execution_count": null,
   "id": "3ad933bf-adf5-40a0-9179-85698efd2d95",
   "metadata": {},
   "outputs": [],
   "source": []
  },
  {
   "cell_type": "code",
   "execution_count": 27,
   "id": "4f35aed0-0a5e-4921-8cc9-76c693fa754a",
   "metadata": {},
   "outputs": [
    {
     "name": "stderr",
     "output_type": "stream",
     "text": [
      "100%|███████████████████████████████████████████| 50/50 [02:28<00:00,  2.97s/it]\n"
     ]
    }
   ],
   "source": [
    "import requests\n",
    "from bs4 import BeautifulSoup\n",
    "from tqdm import trange\n",
    "def crawking_springer(i, url):\n",
    "    url = f\"{url}{i}\"\n",
    "    response = requests.get(url)\n",
    "    return response\n",
    "\n",
    "url = \"https://link.springer.com/search?new-search=true&query=%22quantum++computer%22&sortBy=newestFirst&page=\"\n",
    "dt_data = []\n",
    "for i in trange(50,100):\n",
    "    response = crawking_springer(i, url)\n",
    "    soup = BeautifulSoup(response.content, 'html.parser')\n",
    "    papers = soup.find_all('h3', class_=\"app-card-open__heading\")\n",
    "    for paper in papers:\n",
    "        try:\n",
    "            json_df = {}\n",
    "            json_df[\"link\"] = \"https://link.springer.com/\" + paper.find('a', class_='app-card-open__link')['href']\n",
    "            json_df[\"typedata\"] = paper.find('a', class_='app-card-open__link')['data-track-action']\n",
    "            json_df[\"title\"] = paper.find('span').text\n",
    "            dt_data.append(json_df)\n",
    "        except Exception as e:\n",
    "            pass"
   ]
  },
  {
   "cell_type": "code",
   "execution_count": 28,
   "id": "0c262339-e19a-479a-9e1c-62212ba4b515",
   "metadata": {},
   "outputs": [],
   "source": [
    "import pandas as pd\n",
    "df = pd.DataFrame(dt_data)\n",
    "df.to_csv(\"data_quantum_computer_1.csv\")"
   ]
  },
  {
   "cell_type": "code",
   "execution_count": null,
   "id": "492c2d4e-667c-4ca1-b7ac-6fedfe84f61b",
   "metadata": {},
   "outputs": [],
   "source": []
  },
  {
   "cell_type": "code",
   "execution_count": null,
   "id": "bfeb22b9-2176-4288-9d5e-543bbab69928",
   "metadata": {},
   "outputs": [],
   "source": [
    "ur; = [\n",
    "    \"https://link.springer.com/search?new-search=true&query=%22quantum++computer%22&sortBy=newestFirst&page=\",\n",
    "    \"https://link.springer.com/search?new-search=true&query=%22quantum+deep+learning%22&sortBy=newestFirst&page=\",\n",
    "    \"https://link.springer.com/search?new-search=true&query=%22quantum+machine+learning%22&sortBy=newestFirst&page=\",\n",
    "    \"https://link.springer.com/search?new-search=true&query=%22quantum+computer%22+and+%22computer+vision%22&sortBy=newestFirst&page=\",\n",
    "    \"https://link.springer.com/search?new-search=true&query=%22quantum+computer%22+and+%22data+mining%22&sortBy=newestFirst&page=\",\n",
    "    \"https://link.springer.com/search?new-search=true&query=%22quantum+computer%22+and+%22natural+language+processing%22&sortBy=newestFirst&page=\",\n",
    "    \"https://link.springer.com/search?new-search=true&query=%22quantum+neural+network%22+and+%22natural+language+processing%22&sortBy=newestFirst&page=\",\n",
    "    \"https://link.springer.com/search?new-search=true&query=%22quantum+neural+network%22+and+%22computer+vision%22&sortBy=newestFirst&page=\", #--> 200\n",
    "    \"https://link.springer.com/search?new-search=true&query=%22quantum+neural+network%22&sortBy=newestFirst&page=\", # --> 500\n",
    "    \"https://link.springer.com/search?new-search=true&query=%22quantum+computer%22+and+%22neural+network%22&sortBy=newestFirst&page=\", #--> 900\n",
    "]"
   ]
  },
  {
   "cell_type": "code",
   "execution_count": null,
   "id": "e0c7b5ab-db07-4b66-bb5a-f0a9e6c6ae9c",
   "metadata": {},
   "outputs": [],
   "source": []
  },
  {
   "cell_type": "code",
   "execution_count": null,
   "id": "98093613-8345-4f97-89a0-ba40bf7178b0",
   "metadata": {},
   "outputs": [],
   "source": []
  },
  {
   "cell_type": "code",
   "execution_count": null,
   "id": "9df3f3fe-23cf-42ba-a3b2-b7c5bbac9fcb",
   "metadata": {},
   "outputs": [],
   "source": []
  },
  {
   "cell_type": "code",
   "execution_count": null,
   "id": "a2acd044-c86b-4287-a663-09819200caca",
   "metadata": {},
   "outputs": [],
   "source": []
  },
  {
   "cell_type": "code",
   "execution_count": 14,
   "id": "1a0ed1ce-e986-46d1-8bc0-77f8e819dff5",
   "metadata": {},
   "outputs": [
    {
     "name": "stdout",
     "output_type": "stream",
     "text": [
      "Security enhancement of amplitude-shift keying-type asymmetric quantum communication systems\n",
      "Quantum support vector machines for classification and regression on a trapped-ion quantum computer\n",
      "Hardware-efficient and fast three-qubit gate in superconducting quantum circuits\n",
      "Quantum computing for oncology\n",
      "Biopharma foresees a ‘quantum advantage’: they could be right\n",
      "Deep quantum circuit simulations of low-energy nuclear states\n",
      "An RNN–policy gradient approach for quantum architecture search\n",
      "Image Classification Using Hybrid Classical-Quantum Neutral Networks\n",
      "Implementing 2-qubit pseudo-telepathy games on noisy intermediate-scale quantum computers\n",
      "Quantum horse racing game\n",
      "Optimal solving of a binary knapsack problem on a D-Wave quantum machine and its implementation in production systems\n",
      "Efficient simulation of potential energy operators on quantum hardware: a study on sodium iodide (NaI)\n",
      "Mapping structural topology optimization problems to quantum annealing\n",
      "Error estimation in current noisy quantum computers\n",
      "Triangular cross-section beam splitters in silicon carbide for quantum information processing\n",
      "Integer syndrome decoding in the presence of noise\n",
      "Spooky action at a distance? A two-phase study into learners’ views of quantum entanglement\n",
      "Quantum image edge detection based on Laplacian of Gaussian operator\n",
      "Quantum implementation of SHA1 and MD5 and comparison with classical algorithms\n",
      "Secret Information Sharing using Multipartite Entanglement in Monty Hall Game\n"
     ]
    },
    {
     "ename": "AttributeError",
     "evalue": "'NoneType' object has no attribute 'text'",
     "output_type": "error",
     "traceback": [
      "\u001b[0;31m---------------------------------------------------------------------------\u001b[0m",
      "\u001b[0;31mAttributeError\u001b[0m                            Traceback (most recent call last)",
      "Cell \u001b[0;32mIn[14], line 5\u001b[0m\n\u001b[1;32m      2\u001b[0m papers \u001b[38;5;241m=\u001b[39m soup\u001b[38;5;241m.\u001b[39mfind_all(\u001b[38;5;124m'\u001b[39m\u001b[38;5;124mh3\u001b[39m\u001b[38;5;124m'\u001b[39m)\n\u001b[1;32m      3\u001b[0m \u001b[38;5;28;01mfor\u001b[39;00m paper \u001b[38;5;129;01min\u001b[39;00m papers:\n\u001b[1;32m      4\u001b[0m     \u001b[38;5;66;03m# link = paper.find('a', class_='app-card-open__link')['span']\u001b[39;00m\n\u001b[0;32m----> 5\u001b[0m     link \u001b[38;5;241m=\u001b[39m \u001b[43mpaper\u001b[49m\u001b[38;5;241;43m.\u001b[39;49m\u001b[43mfind\u001b[49m\u001b[43m(\u001b[49m\u001b[38;5;124;43m'\u001b[39;49m\u001b[38;5;124;43mspan\u001b[39;49m\u001b[38;5;124;43m'\u001b[39;49m\u001b[43m)\u001b[49m\u001b[38;5;241;43m.\u001b[39;49m\u001b[43mtext\u001b[49m\n\u001b[1;32m      6\u001b[0m     \u001b[38;5;28mprint\u001b[39m(link)\n\u001b[1;32m      7\u001b[0m     \u001b[38;5;66;03m# print(f\"Link: https://ieeexplore.ieee.org{link}\\n\")\u001b[39;00m\n",
      "\u001b[0;31mAttributeError\u001b[0m: 'NoneType' object has no attribute 'text'"
     ]
    }
   ],
   "source": [
    "soup = BeautifulSoup(response.content, 'html.parser')\n",
    "papers = soup.find_all('h3')\n",
    "for paper in papers:\n",
    "    link = paper.find('a', class_='app-card-open__link')['href']\n",
    "    typedata = paper.find('a', class_='app-card-open__link')['data-track-action']\n",
    "    title = paper.find('span').text\n",
    "    print(link)\n",
    "    # print(f\"Link: https://ieeexplore.ieee.org{link}\\n\")"
   ]
  },
  {
   "cell_type": "code",
   "execution_count": null,
   "id": "33280653-9cf3-48ce-a132-adbecbdcaf43",
   "metadata": {},
   "outputs": [],
   "source": [
    "# Check if the request was successful\n",
    "if response.status_code == 200:\n",
    "    print(\"Successfully fetched the webpage!\")\n",
    "\n",
    "    # Parse the webpage content using BeautifulSoup\n",
    "    soup = BeautifulSoup(response.content, 'html.parser')\n",
    "\n",
    "    # Extract all paragraph texts\n",
    "    paragraphs = soup.find_all('p')\n",
    "\n",
    "    for paragraph in paragraphs:\n",
    "        print(paragraph.text.strip())\n",
    "else:\n",
    "    print(f\"Failed to fetch the webpage. Status code: {response.status_code}\")"
   ]
  }
 ],
 "metadata": {
  "kernelspec": {
   "display_name": "Python 3 (ipykernel)",
   "language": "python",
   "name": "python3"
  },
  "language_info": {
   "codemirror_mode": {
    "name": "ipython",
    "version": 3
   },
   "file_extension": ".py",
   "mimetype": "text/x-python",
   "name": "python",
   "nbconvert_exporter": "python",
   "pygments_lexer": "ipython3",
   "version": "3.10.12"
  }
 },
 "nbformat": 4,
 "nbformat_minor": 5
}
