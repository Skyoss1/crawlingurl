{
 "cells": [
  {
   "cell_type": "code",
   "execution_count": 94,
   "id": "f441daf5-2efc-452b-a88a-d7146a5e7b0f",
   "metadata": {},
   "outputs": [],
   "source": [
    "import requests\n",
    "import json\n",
    "\n",
    "url = \"https://ieeexplore.ieee.org/rest/search\""
   ]
  },
  {
   "cell_type": "code",
   "execution_count": 101,
   "id": "5aea00b6-5383-49fc-83da-60d89efdcec9",
   "metadata": {},
   "outputs": [],
   "source": [
    "payload = json.dumps({\n",
    "    \"newsearch\": True,\n",
    "    \"queryText\": \"\\\"quantum machine learning\\\"\",\n",
    "    \"highlight\": True,\n",
    "    \"returnFacets\": [\"ALL\"],\n",
    "    \"returnType\": \"SEARCH\",\n",
    "    \"matchPubs\": True\n",
    "})\n",
    "headers = {\n",
    "    \"User-Agent\":\"Mozilla/5.0 (X11; Ubuntu; Linux x86_64; rv:126.0) Gecko/20100101 Firefox/126.0\",\n",
    "    \"Accept\":\"application/json, text/plain, */*\",\n",
    "    \"Accept-Language\":\"en-US,en;q=0.5\",\n",
    "    \"Accept-Encoding\":\"gzip, deflate, br, zstd\",\n",
    "    \"X-Security-Request\":\"required\",\n",
    "    \"Content-Type\":\"application/json\",\n",
    "    \"Origin\":\"https://ieeexplore.ieee.org\",\n",
    "    \"Connection\":\"keep-alive\",\n",
    "    \"Referer\":\"https://ieeexplore.ieee.org/search/searchresult.jsp?newsearch=true&queryText=%22quantum%20deep%20learning%22\",\n",
    "    \"Sec-Fetch-Dest\":\"empty\",\n",
    "    \"Sec-Fetch-Mode\":\"cors\",\n",
    "    \"Sec-Fetch-Site\":\"same-origin\",\n",
    "    \"TE\":\"trailer\"\n",
    "}"
   ]
  },
  {
   "cell_type": "code",
   "execution_count": 102,
   "id": "e7f2cf45-7532-4e26-bc8c-0a611d2639c7",
   "metadata": {},
   "outputs": [],
   "source": [
    "response = requests.request(\"POST\", url, headers=headers, data=payload)\n",
    "data = response.json()"
   ]
  },
  {
   "cell_type": "code",
   "execution_count": 103,
   "id": "c9aea375-aa8b-4bf2-908b-67f5027f276b",
   "metadata": {},
   "outputs": [],
   "source": [
    "\n",
    "for i in data[\"records\"]:\n",
    "    dist_dt = {}\n",
    "    dist_dt[\"articleTitle\"] = i.get(\"articleTitle\", None)\n",
    "    dist_dt[\"documentLink\"] = i.get(\"documentLink\", None)\n",
    "    dist_dt[\"articleNumber\"] = i.get(\"articleNumber\", None)\n",
    "    dist_dt[\"articleContentType\"] = i.get(\"articleContentType\", None)\n",
    "    dist_dt[\"publicationYear\"] = i.get(\"publicationYear\", None)\n",
    "    try:\n",
    "        dist_dt[\"documentLinkURL\"] = \"https://ieeexplore.ieee.org\" + i[\"documentLink\"]\n",
    "    except: \n",
    "        dist_dt[\"documentLinkURL\"] = None\n",
    "    try:\n",
    "        dist_dt[\"doi\"] = \"https://\"+ i[\"doi\"]\n",
    "    except: \n",
    "        dist_dt[\"doi\"] = None\n"
   ]
  },
  {
   "cell_type": "code",
   "execution_count": 104,
   "id": "79a5c113-97fb-45d1-bcd8-882595b247a1",
   "metadata": {},
   "outputs": [
    {
     "data": {
      "text/plain": [
       "{'articleTitle': 'Quantum Computing and Machine Learning Algorithms - A Review',\n",
       " 'documentLink': '/document/10100452/',\n",
       " 'articleNumber': '10100452',\n",
       " 'articleContentType': 'Conferences',\n",
       " 'publicationYear': '2022',\n",
       " 'documentLinkURL': 'https://ieeexplore.ieee.org/document/10100452/',\n",
       " 'doi': 'https://10.1109/ICONICS56716.2022.10100452'}"
      ]
     },
     "execution_count": 104,
     "metadata": {},
     "output_type": "execute_result"
    }
   ],
   "source": [
    "dist_dt"
   ]
  },
  {
   "cell_type": "code",
   "execution_count": 105,
   "id": "83ff92dd-86c9-4289-a751-e3fd6d321e0a",
   "metadata": {},
   "outputs": [
    {
     "name": "stderr",
     "output_type": "stream",
     "text": [
      "  5%|██▎                                         | 1/19 [00:05<01:38,  5.45s/it]\n"
     ]
    }
   ],
   "source": [
    "import requests\n",
    "import json\n",
    "import pandas as pd \n",
    "from tqdm import trange\n",
    "\n",
    "url = \"https://ieeexplore.ieee.org/rest/search\"\n",
    "def reponse_system(i, name):\n",
    "    payload = json.dumps({\n",
    "        \"newsearch\": True,\n",
    "        \"queryText\": f\"{name}\",\n",
    "        \"highlight\": True,\n",
    "        \"returnFacets\": [\"ALL\"],\n",
    "        \"returnType\": \"SEARCH\",\n",
    "        \"pageNumber\": f\"{i}\",\n",
    "        \"rowsPerPage\": \"100\",\n",
    "        \"matchPubs\": True\n",
    "    })\n",
    "    headers = {\n",
    "        \"User-Agent\":\"Mozilla/5.0 (X11; Ubuntu; Linux x86_64; rv:126.0) Gecko/20100101 Firefox/126.0\",\n",
    "        \"Accept\":\"application/json, text/plain, */*\",\n",
    "        \"Accept-Language\":\"en-US,en;q=0.5\",\n",
    "        \"Accept-Encoding\":\"gzip, deflate, br, zstd\",\n",
    "        \"X-Security-Request\":\"required\",\n",
    "        \"Content-Type\":\"application/json\",\n",
    "        \"Origin\":\"https://ieeexplore.ieee.org\",\n",
    "        \"Connection\":\"keep-alive\",\n",
    "        \"Referer\":\"https://ieeexplore.ieee.org/search/searchresult.jsp?\",\n",
    "        \"Sec-Fetch-Dest\":\"empty\",\n",
    "        \"Sec-Fetch-Mode\":\"cors\",\n",
    "        \"Sec-Fetch-Site\":\"same-origin\",\n",
    "        \"TE\":\"trailer\"\n",
    "    }\n",
    "    \n",
    "    response = requests.request(\"POST\", url, headers=headers, data=payload)\n",
    "    return response\n",
    "dt_json = []\n",
    "name_title = \"\\\"quantum deep learning\\\"\"\n",
    "for j in trange(1, 20):\n",
    "    resp = reponse_system(j, name_title)\n",
    "    data = resp.json()\n",
    "    try:\n",
    "        for i in data[\"records\"]:\n",
    "            dist_dt = {}\n",
    "            dist_dt[\"articleTitle\"] = i.get(\"articleTitle\", None)\n",
    "            dist_dt[\"documentLink\"] = i.get(\"documentLink\", None)\n",
    "            dist_dt[\"articleNumber\"] = i.get(\"articleNumber\", None)\n",
    "            dist_dt[\"articleContentType\"] = i.get(\"articleContentType\", None)\n",
    "            dist_dt[\"publicationYear\"] = i.get(\"publicationYear\", None)\n",
    "            try:\n",
    "                dist_dt[\"documentLinkURL\"] = \"https://ieeexplore.ieee.org\" + i[\"documentLink\"]\n",
    "            except: \n",
    "                dist_dt[\"documentLinkURL\"] = None\n",
    "            try:\n",
    "                dist_dt[\"doi\"] = \"https://\"+ i[\"doi\"]\n",
    "            except: \n",
    "                dist_dt[\"doi\"] = None\n",
    "            dt_json.append(dist_dt)\n",
    "    except Exception as e:\n",
    "        break\n",
    "        \n",
    "df = pd.DataFrame(dt_json)\n",
    "df.to_csv(f\"Data_Crawbling_{name_title}.csv\")"
   ]
  },
  {
   "cell_type": "code",
   "execution_count": null,
   "id": "a27447ea-054e-43df-88d7-24f89cf14c26",
   "metadata": {},
   "outputs": [],
   "source": [
    "list_key_test = [\n",
    "    \"quantum machine learning\",\n",
    "    \"quantum deep learning\",\n",
    "    \"queryText\":\"(\\\"All Metadata\\\":\\\"quantum computer\\\") AND (\\\"All Metadata\\\":\\\"computer vision\\\")\",\n",
    "    \"queryText\":\"(\\\"All Metadata\\\":\\\"quantum computer\\\") AND (\\\"All Metadata\\\":\\\"data mining\\\")\",\n",
    "    \"queryText\":\"(\\\"All Metadata\\\":\\\"quantum computer\\\") AND (\\\"All Metadata\\\":\\\"data mining\\\")\",\n",
    "\n",
    "\n",
    "]\n",
    "\n"
   ]
  }
 ],
 "metadata": {
  "kernelspec": {
   "display_name": "Python 3 (ipykernel)",
   "language": "python",
   "name": "python3"
  },
  "language_info": {
   "codemirror_mode": {
    "name": "ipython",
    "version": 3
   },
   "file_extension": ".py",
   "mimetype": "text/x-python",
   "name": "python",
   "nbconvert_exporter": "python",
   "pygments_lexer": "ipython3",
   "version": "3.10.12"
  }
 },
 "nbformat": 4,
 "nbformat_minor": 5
}
